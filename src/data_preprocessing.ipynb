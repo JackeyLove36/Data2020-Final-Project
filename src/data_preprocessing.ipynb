{
 "cells": [
  {
   "cell_type": "code",
   "execution_count": 17,
   "id": "initial_id",
   "metadata": {
    "collapsed": true,
    "ExecuteTime": {
     "end_time": "2024-04-30T00:38:17.627733700Z",
     "start_time": "2024-04-30T00:38:17.620480200Z"
    }
   },
   "outputs": [],
   "source": [
    "import pandas as pd\n",
    "import numpy as np\n",
    "from functools import reduce\n",
    "\n",
    "import warnings\n",
    "warnings.filterwarnings('ignore')"
   ]
  },
  {
   "cell_type": "markdown",
   "source": [
    "# Select Columns and Combine Data"
   ],
   "metadata": {
    "collapsed": false
   },
   "id": "e264850343052340"
  },
  {
   "cell_type": "code",
   "execution_count": 18,
   "outputs": [],
   "source": [
    "df_wave_1 = pd.read_stata('../data/FF_wave1_2020v2.dta')\n",
    "df_wave_2 = pd.read_stata('../data/FF_wave2_2020v2.dta')\n",
    "df_wave_3 = pd.read_stata('../data/FF_wave3_2020v2.dta')\n",
    "df_wave_4 = pd.read_stata('../data/FF_wave4_2020v2.dta')\n",
    "df_wave_5 = pd.read_stata('../data/FF_wave5_2020v2.dta')\n",
    "df_wave_6 = pd.read_stata('../data/FF_wave6_2020v2.dta')"
   ],
   "metadata": {
    "collapsed": false,
    "ExecuteTime": {
     "end_time": "2024-04-30T00:38:32.631894400Z",
     "start_time": "2024-04-30T00:38:18.140236800Z"
    }
   },
   "id": "c9737bfb93f4d917"
  },
  {
   "cell_type": "code",
   "execution_count": 19,
   "outputs": [],
   "source": [
    "def load_and_select_columns(dataset, cols_dict):\n",
    "    selected_columns = ['idnum'] + list(cols_dict.keys())\n",
    "    df_selected = dataset[selected_columns]\n",
    "    return df_selected\n",
    "\n",
    "wave1_cols = {\n",
    "    'cf1edu': \"Father baseline education (father report, then mother report)\",\n",
    "    'cm1edu': \"Mother baseline education (own report)\",\n",
    "    'cf1hhinc': \"Household income (with imputed values)\",\n",
    "    'f1j8': \"About how much did you earn?\",\n",
    "    'm1i2b': \"About how much did you earn?\"\n",
    "}\n",
    "\n",
    "wave2_cols = {\n",
    "    'f2b13': \"Does child walk or crawl yet?\",\n",
    "    'f2b32': \"In general, how is your child's health?\",\n",
    "    'f2d1a': \"Does mother have any contact with child?\",\n",
    "    'm2d2': \"Does father have any contact with child?\",\n",
    "    'm2b43a': \"On a scale of 1-(least like) to 5-(most like) - Child tends to be shy\",\n",
    "    'm2b10': \"Since child was born, how many times has he/she stayed overnight in hospital?\"\n",
    "}\n",
    "\n",
    "wave3_cols = {\n",
    "    'cf3marm': \"Is father married to child's mother at year three?\",\n",
    "    'cf3kids': \"Number of children under 18 in household\",\n",
    "    'cf3md_case_lib': \"Father meets depression criteria (liberal) at three-year (CIDI)\",\n",
    "    'cf3hhinc': \"Household income (with imputed values)\",\n",
    "    'f3c3c': \"Days/week: father tell child she loves him/her?\",\n",
    "    'm3c3c': \"Days/week: mother tell child she loves him/her?\"\n",
    "}\n",
    "\n",
    "wave4_cols = {\n",
    "    'cf4cohm': \"Constructed - Father living with child's mother at five-year\",\n",
    "    't4d7': \"number of kids present with child\",\n",
    "    'p4l63': \"Child is interested in many and different things\",\n",
    "    'p4l59':  \"Child threatens people\",\n",
    "    'p4d1c':  \"Last 12M, couldn't afford to eat balanced meals\",\n",
    "    'm4d1b': \"You can trust father to take good care of child\",\n",
    "    'f4b8d': \"Does person/agency give money/voucher/scholarship to help pay for program?\"\n",
    "}\n",
    "\n",
    "wave5_cols = {\n",
    "    'k5d1f': \"Amount of time on a weekday you play computer games on the computer or TV\",\n",
    "    'k5d1g': \"Amount of time on a weekday you watch TV and movies\",\n",
    "    'k5h1': \"Condition of health in general\",\n",
    "    'k5d1e': \"Amount of time on a weekday you chat with friends on the computer\",\n",
    "    'k5f1f': \"Hurt an animal on purpose\"\n",
    "}\n",
    "\n",
    "wave6_cols = {\n",
    "    'p6b1': \"PCG's description of youth's health\",\n",
    "    'k6b5b': \"Kids in this school work hard (?)\",\n",
    "    'k6b20a': \"Grade in English or language arts\",\n",
    "    'k6b20b': \"Grade in Math\",\n",
    "    'k6b20c': \"Grade in History or social studies\",\n",
    "    'k6b20d': \"Grade in Science\",\n",
    "    # 'k6b21c': \"Trouble getting your homework done\",\n",
    "    'k6b21d': \"Trouble getting along with other students\",\n",
    "    'k6b22a': \"Spend time on athletic or sports teams\",\n",
    "    'k6b22b': \"Spend time on group performance activities\",\n",
    "    # 'k6d4': \"Days absent from school due to health in past year\"\n",
    "}"
   ],
   "metadata": {
    "collapsed": false,
    "ExecuteTime": {
     "end_time": "2024-04-30T00:38:32.645266700Z",
     "start_time": "2024-04-30T00:38:32.641096700Z"
    }
   },
   "id": "a2c21b6c11f854b1"
  },
  {
   "cell_type": "code",
   "execution_count": 20,
   "outputs": [],
   "source": [
    "df_wave1 = load_and_select_columns(df_wave_1, wave1_cols)\n",
    "df_wave2 = load_and_select_columns(df_wave_2, wave2_cols)\n",
    "df_wave3 = load_and_select_columns(df_wave_3, wave3_cols)\n",
    "df_wave4 = load_and_select_columns(df_wave_4, wave4_cols)\n",
    "df_wave5 = load_and_select_columns(df_wave_5, wave5_cols)\n",
    "df_wave6 = load_and_select_columns(df_wave_6, wave6_cols)\n",
    "\n",
    "dataframes = [df_wave1, df_wave2, df_wave3, df_wave4, df_wave5, df_wave6]\n",
    "df_merged = reduce(lambda left, right: \n",
    "                   pd.merge(left, right, on='idnum', how='inner'), dataframes)\n",
    "\n",
    "df_merged = df_merged.astype(str)\n",
    "df_merged.to_stata('../data/ff_selected_cols.dta')"
   ],
   "metadata": {
    "collapsed": false,
    "ExecuteTime": {
     "end_time": "2024-04-30T00:38:33.313201100Z",
     "start_time": "2024-04-30T00:38:32.649452800Z"
    }
   },
   "id": "566605c6a3ec701f"
  },
  {
   "cell_type": "code",
   "execution_count": 20,
   "outputs": [],
   "source": [],
   "metadata": {
    "collapsed": false,
    "ExecuteTime": {
     "end_time": "2024-04-30T00:38:33.320110600Z",
     "start_time": "2024-04-30T00:38:33.313201100Z"
    }
   },
   "id": "e2e134541063681b"
  },
  {
   "cell_type": "markdown",
   "source": [
    "# Construct Y variable"
   ],
   "metadata": {
    "collapsed": false
   },
   "id": "48bcabc19993f2ad"
  },
  {
   "cell_type": "code",
   "execution_count": 21,
   "outputs": [
    {
     "data": {
      "text/plain": "   index idnum             cf1edu             cm1edu        cf1hhinc  \\\n0      0  0001  3 some coll, tech  3 some coll, tech         22500.0   \n1      1  0002          1 less hs          1 less hs  -9 Not in wave   \n2      2  0003  3 some coll, tech  3 some coll, tech         62500.0   \n3      3  0004      2 hs or equiv      2 hs or equiv         30000.0   \n4      4  0005         -3 Missing      2 hs or equiv  -9 Not in wave   \n\n             f1j8  m1i2b           f2b13           f2b32           f2d1a  ...  \\\n0         32000.0   10.0         -6 Skip         -6 Skip    -5 Not asked  ...   \n1  -9 Not in wave  260.0         -6 Skip        1 Excell            2 No  ...   \n2         20000.0    6.0         -6 Skip        2 V Good            2 No  ...   \n3          1800.0  400.0         -6 Skip        1 Excell           1 Yes  ...   \n4  -9 Not in wave    8.0  -9 Not in wave  -9 Not in wave  -9 Not in wave  ...   \n\n            k5f1f         p6b1             k6b5b          k6b20a  \\\n0            2 No  2 Very good  1 Strongly agree             2 B   \n1            2 No       3 Good  1 Strongly agree             3 C   \n2  -9 Not in wave  2 Very good  2 Somewhat agree             2 B   \n3            2 No       3 Good  2 Somewhat agree             1 A   \n4            2 No  1 Excellent    -9 Not in wave  -9 Not in wave   \n\n           k6b20b          k6b20c          k6b20d          k6b21d  \\\n0             2 B             3 C             2 B     2 Sometimes   \n1             1 A             3 C             3 C         1 Never   \n2             2 B             1 A             3 C     2 Sometimes   \n3             1 A             1 A             1 A     2 Sometimes   \n4  -9 Not in wave  -9 Not in wave  -9 Not in wave  -9 Not in wave   \n\n                   k6b22a                   k6b22b  \n0           3 Once a week   4 Several times a week  \n1  4 Several times a week  2 At least once a month  \n2                 0 Never                  0 Never  \n3                 0 Never   4 Several times a week  \n4          -9 Not in wave           -9 Not in wave  \n\n[5 rows x 40 columns]",
      "text/html": "<div>\n<style scoped>\n    .dataframe tbody tr th:only-of-type {\n        vertical-align: middle;\n    }\n\n    .dataframe tbody tr th {\n        vertical-align: top;\n    }\n\n    .dataframe thead th {\n        text-align: right;\n    }\n</style>\n<table border=\"1\" class=\"dataframe\">\n  <thead>\n    <tr style=\"text-align: right;\">\n      <th></th>\n      <th>index</th>\n      <th>idnum</th>\n      <th>cf1edu</th>\n      <th>cm1edu</th>\n      <th>cf1hhinc</th>\n      <th>f1j8</th>\n      <th>m1i2b</th>\n      <th>f2b13</th>\n      <th>f2b32</th>\n      <th>f2d1a</th>\n      <th>...</th>\n      <th>k5f1f</th>\n      <th>p6b1</th>\n      <th>k6b5b</th>\n      <th>k6b20a</th>\n      <th>k6b20b</th>\n      <th>k6b20c</th>\n      <th>k6b20d</th>\n      <th>k6b21d</th>\n      <th>k6b22a</th>\n      <th>k6b22b</th>\n    </tr>\n  </thead>\n  <tbody>\n    <tr>\n      <th>0</th>\n      <td>0</td>\n      <td>0001</td>\n      <td>3 some coll, tech</td>\n      <td>3 some coll, tech</td>\n      <td>22500.0</td>\n      <td>32000.0</td>\n      <td>10.0</td>\n      <td>-6 Skip</td>\n      <td>-6 Skip</td>\n      <td>-5 Not asked</td>\n      <td>...</td>\n      <td>2 No</td>\n      <td>2 Very good</td>\n      <td>1 Strongly agree</td>\n      <td>2 B</td>\n      <td>2 B</td>\n      <td>3 C</td>\n      <td>2 B</td>\n      <td>2 Sometimes</td>\n      <td>3 Once a week</td>\n      <td>4 Several times a week</td>\n    </tr>\n    <tr>\n      <th>1</th>\n      <td>1</td>\n      <td>0002</td>\n      <td>1 less hs</td>\n      <td>1 less hs</td>\n      <td>-9 Not in wave</td>\n      <td>-9 Not in wave</td>\n      <td>260.0</td>\n      <td>-6 Skip</td>\n      <td>1 Excell</td>\n      <td>2 No</td>\n      <td>...</td>\n      <td>2 No</td>\n      <td>3 Good</td>\n      <td>1 Strongly agree</td>\n      <td>3 C</td>\n      <td>1 A</td>\n      <td>3 C</td>\n      <td>3 C</td>\n      <td>1 Never</td>\n      <td>4 Several times a week</td>\n      <td>2 At least once a month</td>\n    </tr>\n    <tr>\n      <th>2</th>\n      <td>2</td>\n      <td>0003</td>\n      <td>3 some coll, tech</td>\n      <td>3 some coll, tech</td>\n      <td>62500.0</td>\n      <td>20000.0</td>\n      <td>6.0</td>\n      <td>-6 Skip</td>\n      <td>2 V Good</td>\n      <td>2 No</td>\n      <td>...</td>\n      <td>-9 Not in wave</td>\n      <td>2 Very good</td>\n      <td>2 Somewhat agree</td>\n      <td>2 B</td>\n      <td>2 B</td>\n      <td>1 A</td>\n      <td>3 C</td>\n      <td>2 Sometimes</td>\n      <td>0 Never</td>\n      <td>0 Never</td>\n    </tr>\n    <tr>\n      <th>3</th>\n      <td>3</td>\n      <td>0004</td>\n      <td>2 hs or equiv</td>\n      <td>2 hs or equiv</td>\n      <td>30000.0</td>\n      <td>1800.0</td>\n      <td>400.0</td>\n      <td>-6 Skip</td>\n      <td>1 Excell</td>\n      <td>1 Yes</td>\n      <td>...</td>\n      <td>2 No</td>\n      <td>3 Good</td>\n      <td>2 Somewhat agree</td>\n      <td>1 A</td>\n      <td>1 A</td>\n      <td>1 A</td>\n      <td>1 A</td>\n      <td>2 Sometimes</td>\n      <td>0 Never</td>\n      <td>4 Several times a week</td>\n    </tr>\n    <tr>\n      <th>4</th>\n      <td>4</td>\n      <td>0005</td>\n      <td>-3 Missing</td>\n      <td>2 hs or equiv</td>\n      <td>-9 Not in wave</td>\n      <td>-9 Not in wave</td>\n      <td>8.0</td>\n      <td>-9 Not in wave</td>\n      <td>-9 Not in wave</td>\n      <td>-9 Not in wave</td>\n      <td>...</td>\n      <td>2 No</td>\n      <td>1 Excellent</td>\n      <td>-9 Not in wave</td>\n      <td>-9 Not in wave</td>\n      <td>-9 Not in wave</td>\n      <td>-9 Not in wave</td>\n      <td>-9 Not in wave</td>\n      <td>-9 Not in wave</td>\n      <td>-9 Not in wave</td>\n      <td>-9 Not in wave</td>\n    </tr>\n  </tbody>\n</table>\n<p>5 rows × 40 columns</p>\n</div>"
     },
     "execution_count": 21,
     "metadata": {},
     "output_type": "execute_result"
    }
   ],
   "source": [
    "df_merged = pd.read_stata('../data/ff_selected_cols.dta')\n",
    "df_merged.head()"
   ],
   "metadata": {
    "collapsed": false,
    "ExecuteTime": {
     "end_time": "2024-04-30T00:38:33.493117800Z",
     "start_time": "2024-04-30T00:38:33.327621Z"
    }
   },
   "id": "758edda2b9248efc"
  },
  {
   "cell_type": "code",
   "execution_count": 22,
   "outputs": [
    {
     "name": "stdout",
     "output_type": "stream",
     "text": [
      "Column: p6b1\n",
      "1 Excellent       1853\n",
      "-9 Not in wave    1318\n",
      "2 Very good       1115\n",
      "3 Good             477\n",
      "4 Fair             121\n",
      "5 Poor              14\n",
      "Name: count, dtype: int64 \n",
      "\n",
      "Column: k6b5b\n",
      "2 Somewhat agree       1879\n",
      "-9 Not in wave         1454\n",
      "1 Strongly agree        813\n",
      "3 Somewhat disagree     513\n",
      "4 Strongly disagree     171\n",
      "-6 Skip                  65\n",
      "-2 Don't know             2\n",
      "-3 Missing                1\n",
      "Name: count, dtype: int64 \n",
      "\n",
      "Column: k6b20a\n",
      "-9 Not in wave             1454\n",
      "2 B                        1439\n",
      "1 A                         897\n",
      "3 C                         710\n",
      "4 D or lower                214\n",
      "-2 Don't know                99\n",
      "5 No grade or pass/fail      44\n",
      "7 N/A Homeschooled           38\n",
      "-1 Refuse                     2\n",
      "-3 Missing                    1\n",
      "Name: count, dtype: int64 \n",
      "\n",
      "Column: k6b20b\n",
      "-9 Not in wave             1454\n",
      "2 B                        1231\n",
      "3 C                         845\n",
      "1 A                         809\n",
      "4 D or lower                371\n",
      "5 No grade or pass/fail      82\n",
      "-2 Don't know                64\n",
      "-3 Missing                   38\n",
      "7 N/A Homeschooled            3\n",
      "-1 Refuse                     1\n",
      "Name: count, dtype: int64 \n",
      "\n",
      "Column: k6b20c\n",
      "-9 Not in wave             1454\n",
      "2 B                        1152\n",
      "1 A                         971\n",
      "3 C                         693\n",
      "4 D or lower                223\n",
      "5 No grade or pass/fail     218\n",
      "-2 Don't know               127\n",
      "-3 Missing                   38\n",
      "7 N/A Homeschooled           16\n",
      "-1 Refuse                     6\n",
      "Name: count, dtype: int64 \n",
      "\n",
      "Column: k6b20d\n",
      "-9 Not in wave             1454\n",
      "2 B                        1238\n",
      "1 A                         893\n",
      "3 C                         795\n",
      "4 D or lower                271\n",
      "5 No grade or pass/fail     110\n",
      "-2 Don't know                78\n",
      "-3 Missing                   48\n",
      "7 N/A Homeschooled            7\n",
      "-1 Refuse                     4\n",
      "Name: count, dtype: int64 \n",
      "\n",
      "Column: k6b21d\n",
      "1 Never               1584\n",
      "-9 Not in wave        1454\n",
      "2 Sometimes           1197\n",
      "3 Often                577\n",
      "-6 Skip                 79\n",
      "7 N/A Homeschooled       2\n",
      "-3 Missing               2\n",
      "-1 Refuse                2\n",
      "-2 Don't know            1\n",
      "Name: count, dtype: int64 \n",
      "\n",
      "Column: k6b22a\n",
      "-9 Not in wave              1454\n",
      "4 Several times a week      1401\n",
      "0 Never                     1097\n",
      "3 Once a week                416\n",
      "2 At least once a month      371\n",
      "1 Less than once a month     149\n",
      "-2 Don't know                  7\n",
      "-3 Missing                     2\n",
      "-1 Refuse                      1\n",
      "Name: count, dtype: int64 \n",
      "\n",
      "Column: k6b22b\n",
      "0 Never                     2034\n",
      "-9 Not in wave              1454\n",
      "4 Several times a week       692\n",
      "3 Once a week                297\n",
      "2 At least once a month      277\n",
      "1 Less than once a month     138\n",
      "-2 Don't know                  4\n",
      "-3 Missing                     2\n",
      "Name: count, dtype: int64 \n"
     ]
    }
   ],
   "source": [
    "for col in wave6_cols.keys():\n",
    "    print(f'Column:', df_merged[col].value_counts(), '\\n')"
   ],
   "metadata": {
    "collapsed": false,
    "ExecuteTime": {
     "end_time": "2024-04-30T00:38:33.546496500Z",
     "start_time": "2024-04-30T00:38:33.493117800Z"
    }
   },
   "id": "eb8edfc359eda56d"
  },
  {
   "cell_type": "markdown",
   "source": [
    "## Construct Y Variable"
   ],
   "metadata": {
    "collapsed": false
   },
   "id": "a059f4c78ad31799"
  },
  {
   "cell_type": "code",
   "execution_count": 30,
   "outputs": [],
   "source": [
    "def construct_y(data):\n",
    "    # convert y candidate values\n",
    "    # Health\n",
    "    data['y_good_health'] = data['p6b1'].str.extract(r'^(-?\\d+)')\n",
    "    data['y_good_health'] = np.where(pd.to_numeric(data['y_good_health'], \n",
    "                                                   errors='coerce')<=2, 1, 0)\n",
    "    \n",
    "    # Attitude\n",
    "    data['y_work_hard'] = data['k6b5b'].str.extract(r'^(-?\\d+)')\n",
    "    data['y_work_hard'] = np.where(pd.to_numeric(data['y_work_hard'],\n",
    "                                                 errors='coerce')<=2, 1, 0)\n",
    "    # Academic\n",
    "    for col in ['k6b20a', 'k6b20b', 'k6b20c', 'k6b20d']:\n",
    "        data[col] = data[col].str.extract(r'^(-?\\d+)')\n",
    "        data[col] = pd.to_numeric(data[col], errors='coerce')\n",
    "        data[col] = np.where(data[col]<=1, 4,\n",
    "                             np.where(data[col]<=2, 3, np.where(data[col]<=3, 2, 0)))\n",
    "    data['y_gpa_good'] = data[['k6b20a', 'k6b20b', 'k6b20c', 'k6b20d']].mean(axis=1)\n",
    "    data['y_gpa_good'] = np.where(data['y_gpa_good']>=3.6, 1, 0)\n",
    "    \n",
    "    # Social\n",
    "    data['y_social_good'] = data['k6b21d'].str.extract(r'^(-?\\d+)')\n",
    "    data['y_social_good'] = np.where(pd.to_numeric(data['y_social_good'], errors='coerce')<=1, 1, 0)\n",
    "    \n",
    "    # Group Performance\n",
    "    data['y_art'] = data['k6b22b'].str.extract(r'^(-?\\d+)')\n",
    "    data['y_art'] = np.where(pd.to_numeric(data['y_art'], errors='coerce')>=3, 1, 0)\n",
    "    \n",
    "    # Athelete\n",
    "    data['y_sport'] = data['k6b22a'].str.extract(r'^(-?\\d+)')\n",
    "    data['y_sport'] = np.where(pd.to_numeric(data['y_sport'], errors='coerce')>=3, 1, 0)\n",
    "    \n",
    "    \n",
    "    data['y_score'] = data[['y_good_health', 'y_work_hard', 'y_gpa_good',\n",
    "                            'y_social_good', 'y_art', 'y_sport']].sum(axis=1)\n",
    "    \n",
    "    data['y_binary'] = np.where(data['y_score']>=4, 1, 0)\n",
    "    return data"
   ],
   "metadata": {
    "collapsed": false,
    "ExecuteTime": {
     "end_time": "2024-04-30T00:50:09.361189200Z",
     "start_time": "2024-04-30T00:50:09.350769Z"
    }
   },
   "id": "38ad1388706062ab"
  },
  {
   "cell_type": "code",
   "execution_count": 31,
   "outputs": [],
   "source": [
    "df = df_merged.copy()\n",
    "\n",
    "# Replace with NaN\n",
    "negative_value_pattern = r'^-\\d+.*$'\n",
    "for col in wave6_cols.keys():\n",
    "    df[col] = df[col].replace(negative_value_pattern, np.nan, regex=True)\n",
    " \n",
    "# Calculate missing rate, remove roles\n",
    "num_missing_per_row = df[wave6_cols.keys()].isnull().sum(axis=1)\n",
    "missing_rate_per_row = num_missing_per_row / len(wave6_cols.keys())\n",
    "\n",
    "df['y_missing_rate'] = missing_rate_per_row\n",
    "# print(df['y_missing_rate'].value_counts())\n",
    "df_filtered = df[df.y_missing_rate <= 0.1]\n",
    "\n",
    "X_cols = list(wave1_cols.keys())+ list(wave2_cols.keys()) + list(wave3_cols.keys()) +\\\n",
    "         list(wave4_cols.keys()) + list(wave5_cols.keys())\n",
    "Y_cols = ['y_missing_rate', 'y_score', 'y_binary']\n",
    "data_processed = construct_y(df_filtered)\n",
    "data_processed = data_processed[X_cols + Y_cols]\n",
    "data_processed.to_stata('../data/ff_data_preprocessed.dta')"
   ],
   "metadata": {
    "collapsed": false,
    "ExecuteTime": {
     "end_time": "2024-04-30T00:50:10.206017700Z",
     "start_time": "2024-04-30T00:50:09.906191200Z"
    }
   },
   "id": "76b6cab468d4a01c"
  },
  {
   "cell_type": "code",
   "execution_count": 32,
   "outputs": [],
   "source": [
    "# wave6_cols.keys()\n",
    "# \n",
    "# col = 'k6b21d'\n",
    "# print(wave6_cols[col])\n",
    "# df[col].value_counts()"
   ],
   "metadata": {
    "collapsed": false,
    "ExecuteTime": {
     "end_time": "2024-04-30T00:50:11.750433100Z",
     "start_time": "2024-04-30T00:50:11.743914300Z"
    }
   },
   "id": "b3509389642f80c1"
  },
  {
   "cell_type": "code",
   "execution_count": 33,
   "outputs": [],
   "source": [
    "x_processed = data_processed.copy()\n",
    "\n",
    "for col in X_cols:\n",
    "        x_processed[col] = x_processed[col].str.extract(r'^(-?\\d+)')\n",
    "        x_processed[col] = pd.to_numeric(x_processed[col], errors='coerce')\n",
    "        \n",
    "x_processed.to_stata('../data/ff_data_x_preprocessed.dta')"
   ],
   "metadata": {
    "collapsed": false,
    "ExecuteTime": {
     "end_time": "2024-04-30T00:50:12.666360200Z",
     "start_time": "2024-04-30T00:50:12.452229300Z"
    }
   },
   "id": "84f710b9cfdbb17b"
  },
  {
   "cell_type": "code",
   "execution_count": 34,
   "outputs": [
    {
     "data": {
      "text/plain": "y_score\n3    989\n4    777\n2    733\n5    306\n1    235\n6     42\n0     31\nName: count, dtype: int64"
     },
     "execution_count": 34,
     "metadata": {},
     "output_type": "execute_result"
    }
   ],
   "source": [
    "x_processed.y_score.value_counts()"
   ],
   "metadata": {
    "collapsed": false,
    "ExecuteTime": {
     "end_time": "2024-04-30T00:50:13.846467900Z",
     "start_time": "2024-04-30T00:50:13.834634600Z"
    }
   },
   "id": "4854d383e498729d"
  },
  {
   "cell_type": "markdown",
   "source": [
    "# Selected X variable of interest"
   ],
   "metadata": {
    "collapsed": false
   },
   "id": "761b276fcb90ff63"
  },
  {
   "cell_type": "code",
   "execution_count": 35,
   "outputs": [],
   "source": [
    "X_selected = ['cf1edu', 'cm1edu', 'f2b32', 'm2d2', 'm2b43a', 'cf3marm', 'cf3kids',\n",
    "              'cf3md_case_lib', 'cf4cohm', 't4d7', 'cf1hhinc', 'k5d1f', 'k5f1f']\n",
    "Y_selected = ['y_binary']\n",
    "\n",
    "df_selected = data_processed[X_selected+Y_selected]\n",
    "df_selected.to_stata('../data/ff_data_preprocessed_v1.dta')\n",
    "\n",
    "df_selected_x_processed = x_processed[X_selected+Y_selected]\n",
    "df_selected_x_processed.to_stata('../data/ff_data_x_preprocessed_v1.dta')"
   ],
   "metadata": {
    "collapsed": false,
    "ExecuteTime": {
     "end_time": "2024-04-30T00:50:15.453629Z",
     "start_time": "2024-04-30T00:50:15.348871900Z"
    }
   },
   "id": "8389d7c7816bcad1"
  },
  {
   "cell_type": "code",
   "execution_count": null,
   "outputs": [],
   "source": [],
   "metadata": {
    "collapsed": false
   },
   "id": "453db69591b3dd72"
  }
 ],
 "metadata": {
  "kernelspec": {
   "display_name": "Python 3",
   "language": "python",
   "name": "python3"
  },
  "language_info": {
   "codemirror_mode": {
    "name": "ipython",
    "version": 2
   },
   "file_extension": ".py",
   "mimetype": "text/x-python",
   "name": "python",
   "nbconvert_exporter": "python",
   "pygments_lexer": "ipython2",
   "version": "2.7.6"
  }
 },
 "nbformat": 4,
 "nbformat_minor": 5
}
